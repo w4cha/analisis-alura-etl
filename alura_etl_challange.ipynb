{
  "nbformat": 4,
  "nbformat_minor": 0,
  "metadata": {
    "colab": {
      "provenance": [],
      "authorship_tag": "ABX9TyOppG2oI46Cs/HcMyUq+uNE",
      "include_colab_link": true
    },
    "kernelspec": {
      "name": "python3",
      "display_name": "Python 3"
    },
    "language_info": {
      "name": "python"
    }
  },
  "cells": [
    {
      "cell_type": "markdown",
      "metadata": {
        "id": "view-in-github",
        "colab_type": "text"
      },
      "source": [
        "<a href=\"https://colab.research.google.com/github/w4cha/analisis-alura-etl/blob/main/alura_etl_challange.ipynb\" target=\"_parent\"><img src=\"https://colab.research.google.com/assets/colab-badge.svg\" alt=\"Open In Colab\"/></a>"
      ]
    },
    {
      "cell_type": "markdown",
      "source": [
        "# Premisa\n",
        "**Telecom X - Análisis de Evasión de Clientes**\n",
        "Has sido contratado como asistente de análisis de datos en Telecom X y formarás parte del proyecto **\"Churn de Clientes\"**. La empresa enfrenta una alta tasa de cancelaciones y necesita comprender los factores que llevan a la pérdida de clientes.\n",
        "\n",
        "Tu desafío será recopilar, procesar y analizar los datos, utilizando Python y sus principales bibliotecas para extraer información valiosa. A partir de tu análisis, el equipo de Data Science podrá avanzar en modelos predictivos y desarrollar estrategias para reducir la evasión."
      ],
      "metadata": {
        "id": "BJ5C5yxuT2Vr"
      }
    },
    {
      "cell_type": "markdown",
      "source": [
        "##1. Extracción de datos"
      ],
      "metadata": {
        "id": "qlCpKKCnUT6Q"
      }
    },
    {
      "cell_type": "code",
      "execution_count": null,
      "metadata": {
        "id": "qzFLPHX_St7i"
      },
      "outputs": [],
      "source": []
    },
    {
      "cell_type": "markdown",
      "source": [
        "##2. Limpieza de datos"
      ],
      "metadata": {
        "id": "9Et_PMWjUUVT"
      }
    },
    {
      "cell_type": "markdown",
      "source": [],
      "metadata": {
        "id": "oHHFiIGEUv9R"
      }
    },
    {
      "cell_type": "markdown",
      "source": [
        "##3. ECarga y analisis de datos"
      ],
      "metadata": {
        "id": "NaM1FY2jUUoC"
      }
    },
    {
      "cell_type": "markdown",
      "source": [
        "##4. Extras"
      ],
      "metadata": {
        "id": "hAIbHF4CUsO5"
      }
    }
  ]
}